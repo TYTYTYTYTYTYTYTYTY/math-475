{
 "cells": [
  {
   "cell_type": "markdown",
   "metadata": {},
   "source": [
    "# MATH 475 homework2 \n"
   ]
  },
  {
   "cell_type": "markdown",
   "metadata": {},
   "source": [
    "### Muzhou Liu, Oct,1 2018 "
   ]
  },
  {
   "cell_type": "markdown",
   "metadata": {},
   "source": [
    "## Problem 1. "
   ]
  },
  {
   "cell_type": "markdown",
   "metadata": {},
   "source": [
    "### d)"
   ]
  },
  {
   "cell_type": "code",
   "execution_count": 1,
   "metadata": {
    "collapsed": false
   },
   "outputs": [
    {
     "name": "stderr",
     "output_type": "stream",
     "text": [
      "-- Attaching packages --------------------------------------- tidyverse 1.2.1 --\n",
      "v ggplot2 3.0.0     v purrr   0.2.5\n",
      "v tibble  1.4.2     v dplyr   0.7.6\n",
      "v tidyr   0.8.1     v stringr 1.3.1\n",
      "v readr   1.1.1     v forcats 0.3.0\n",
      "-- Conflicts ------------------------------------------ tidyverse_conflicts() --\n",
      "x dplyr::filter() masks stats::filter()\n",
      "x dplyr::lag()    masks stats::lag()\n"
     ]
    }
   ],
   "source": [
    "library(tidyverse)\n",
    "library(glm2)\n",
    "library(evd)"
   ]
  },
  {
   "cell_type": "markdown",
   "metadata": {},
   "source": [
    " log likelihood "
   ]
  },
  {
   "cell_type": "code",
   "execution_count": 2,
   "metadata": {
    "collapsed": true
   },
   "outputs": [],
   "source": [
    "log_likelihood_poisson_regression <- function(beta_s, x_data, y_data){\n",
    "  data_full <- cbind(x_data,y_data)\n",
    "  return(\n",
    "  sum(apply(data_full,1, function(x){\n",
    "    x[4]* log(exp(t(as.matrix(x[1:3])) %*% as.matrix(beta_s))) -\n",
    "      exp(t(as.matrix(x[1:3])) %*% as.matrix(beta_s)) - log(factorial(x[4]))\n",
    "  }))\n",
    "  )\n",
    "}\n"
   ]
  },
  {
   "cell_type": "markdown",
   "metadata": {},
   "source": [
    "\n",
    "Graidant of loglikelihood "
   ]
  },
  {
   "cell_type": "code",
   "execution_count": 3,
   "metadata": {
    "collapsed": true
   },
   "outputs": [],
   "source": [
    "grad_poisson_regression_3x1 <- function(beta_s, x_data, y_data){\n",
    "  \n",
    "  data_full <- cbind(x_data, y_data)\n",
    "  \n",
    "  return(\n",
    "    matrix( c( sum(apply(data_full, 1, \n",
    "                         function(x){x[4]*x[1]-exp(t(as.matrix(x[1:3])) %*% as.matrix(beta_s))*x[1]})),\n",
    "               sum(apply(data_full, 1, \n",
    "                         function(x){x[4]*x[2]-exp(t(as.matrix(x[1:3])) %*% as.matrix(beta_s))*x[2]})),\n",
    "               sum(apply(data_full, 1, \n",
    "                         function(x){x[4]*x[3]-exp(t(as.matrix(x[1:3])) %*% as.matrix(beta_s))*x[3]}))\n",
    "          ) ,3,1  )\n",
    "        )\n",
    "}\n"
   ]
  },
  {
   "cell_type": "markdown",
   "metadata": {},
   "source": [
    "hessian and inverse of hessian"
   ]
  },
  {
   "cell_type": "code",
   "execution_count": 4,
   "metadata": {
    "collapsed": true
   },
   "outputs": [],
   "source": [
    "hessian_poisson_regression_3x3 <- function(beta_s, x_data, y_data){\n",
    "\n",
    "    return( \n",
    "    \n",
    "        matrix( c( \n",
    "          sum(apply(x_data, 1, function(x){-x[1]*x[1] * exp(t(as.matrix(x)) %*% as.matrix(beta_s))})),\n",
    "          sum(apply(x_data, 1, function(x){-x[1]*x[2] * exp(t(as.matrix(x)) %*% as.matrix(beta_s))})),\n",
    "          sum(apply(x_data, 1, function(x){-x[1]*x[3] * exp(t(as.matrix(x)) %*% as.matrix(beta_s))})),\n",
    "          sum(apply(x_data, 1, function(x){-x[2]*x[1] * exp(t(as.matrix(x)) %*% as.matrix(beta_s))})),\n",
    "          sum(apply(x_data, 1, function(x){-x[2]*x[2] * exp(t(as.matrix(x)) %*% as.matrix(beta_s))})),\n",
    "          sum(apply(x_data, 1, function(x){-x[2]*x[3] * exp(t(as.matrix(x)) %*% as.matrix(beta_s))})),\n",
    "          sum(apply(x_data, 1, function(x){-x[3]*x[1] * exp(t(as.matrix(x)) %*% as.matrix(beta_s))})),\n",
    "          sum(apply(x_data, 1, function(x){-x[3]*x[2] * exp(t(as.matrix(x)) %*% as.matrix(beta_s))})),\n",
    "          sum(apply(x_data, 1, function(x){-x[3]*x[3] * exp(t(as.matrix(x)) %*% as.matrix(beta_s))}))\n",
    "              ) , 3, 3, byrow = TRUE )\n",
    "\n",
    "    )\n",
    "}\n",
    "\n",
    "\n",
    "inverse_hassian_poisson_regression_3x3<- function(beta_s, x_data, y_data){\n",
    "  \n",
    "  return(solve(hessian_poisson_regression_3x3( beta_s,x_data, y_data)))\n",
    "}"
   ]
  },
  {
   "cell_type": "markdown",
   "metadata": {},
   "source": [
    "\n",
    "Newton's method"
   ]
  },
  {
   "cell_type": "code",
   "execution_count": 5,
   "metadata": {
    "collapsed": true
   },
   "outputs": [],
   "source": [
    "newtons_method <- function(init_par, grad, fun,inv_hess, tol, max_iter, x_data, y_data){\n",
    "    \n",
    "    rel_tol <- 2*tol\n",
    "    par_old <- init_par\n",
    "    iter_count <- 0\n",
    "    iter_par <- matrix(0,max_iter+1,length(init_par))\n",
    "    iter_par[1,] <- t(init_par) \n",
    "\n",
    "    while(rel_tol > tol & iter_count < max_iter){\n",
    "\n",
    "        par_new <- par_old - inv_hess(par_old, x_data, y_data)%*%grad(par_old, x_data,y_data)\n",
    "        rel_tol <- max(abs(par_new - par_old)/par_old)\n",
    "        par_old <- par_new\n",
    "        iter_count <- iter_count + 1\n",
    "        iter_par[iter_count+1,] <- t(par_new)\n",
    "\n",
    "    }\n",
    "\n",
    "    return(list(solution = par_new, fun_solution = fun(par_new,x_data, y_data),\n",
    "                final_tol = rel_tol, num_iters = iter_count, all_iters = iter_par[1:iter_count,]))\n",
    "\n",
    "}"
   ]
  },
  {
   "cell_type": "markdown",
   "metadata": {},
   "source": [
    "\n",
    "Finding the initial point that have the hightest likelihood. "
   ]
  },
  {
   "cell_type": "code",
   "execution_count": 6,
   "metadata": {
    "collapsed": false
   },
   "outputs": [],
   "source": [
    "y_data <- crabs %>% \n",
    "  dplyr::select(Satellites)\n",
    "\n",
    "x_data <- crabs %>% \n",
    "  dplyr::select(Width, Dark,  GoodSpine) %>%\n",
    "  mutate(Dark = as.integer(Dark), GoodSpine = as.integer(GoodSpine))\n",
    "\n",
    "\n",
    "\n",
    "set.seed(10)\n",
    "\n",
    "test_initial_poirnt <- rnorm(300,0,10) %>%  \n",
    "  matrix(100,3) %>% \n",
    "  as.data.frame() \n",
    "\n",
    "test_likelihood <- apply(test_initial_poirnt,1,\n",
    "                         function(x){log_likelihood_poisson_regression(x,x_data,y_data)}) \n",
    "\n",
    "init_par <- t(test_initial_poirnt[which(test_likelihood == max(test_likelihood,na.rm = TRUE)),])"
   ]
  },
  {
   "cell_type": "markdown",
   "metadata": {},
   "source": [
    "\n",
    "fitting the crabs data"
   ]
  },
  {
   "cell_type": "code",
   "execution_count": 12,
   "metadata": {
    "collapsed": false
   },
   "outputs": [
    {
     "data": {
      "text/html": [
       "<dl>\n",
       "\t<dt>$solution</dt>\n",
       "\t\t<dd><table>\n",
       "<thead><tr><th></th><th scope=col>93</th></tr></thead>\n",
       "<tbody>\n",
       "\t<tr><th scope=row>V1</th><td> 0.06894223</td></tr>\n",
       "\t<tr><th scope=row>V2</th><td>-0.46992438</td></tr>\n",
       "\t<tr><th scope=row>V3</th><td>-0.09372374</td></tr>\n",
       "</tbody>\n",
       "</table>\n",
       "</dd>\n",
       "\t<dt>$fun_solution</dt>\n",
       "\t\t<dd>-466.410749536188</dd>\n",
       "\t<dt>$final_tol</dt>\n",
       "\t\t<dd>3.57404218635425e-06</dd>\n",
       "\t<dt>$num_iters</dt>\n",
       "\t\t<dd>10</dd>\n",
       "\t<dt>$all_iters</dt>\n",
       "\t\t<dd><table>\n",
       "<tbody>\n",
       "\t<tr><td>0.69544781 </td><td>-6.8115136 </td><td>-8.29974527</td></tr>\n",
       "\t<tr><td>0.39743361 </td><td>-9.4874954 </td><td> 2.22899989</td></tr>\n",
       "\t<tr><td>0.36857362 </td><td>-9.2201529 </td><td> 2.02203636</td></tr>\n",
       "\t<tr><td>0.29366522 </td><td>-7.1625204 </td><td> 1.59211122</td></tr>\n",
       "\t<tr><td>0.11581294 </td><td>-1.7257281 </td><td> 0.92932802</td></tr>\n",
       "\t<tr><td>0.08186588 </td><td>-1.0900685 </td><td> 0.62934760</td></tr>\n",
       "\t<tr><td>0.06645049 </td><td>-0.6399869 </td><td> 0.25983507</td></tr>\n",
       "\t<tr><td>0.06708997 </td><td>-0.4893605 </td><td>-0.01347514</td></tr>\n",
       "\t<tr><td>0.06882747 </td><td>-0.4703816 </td><td>-0.08999295</td></tr>\n",
       "\t<tr><td>0.06894199 </td><td>-0.4699250 </td><td>-0.09371636</td></tr>\n",
       "</tbody>\n",
       "</table>\n",
       "</dd>\n",
       "</dl>\n"
      ],
      "text/latex": [
       "\\begin{description}\n",
       "\\item[\\$solution] \\begin{tabular}{r|l}\n",
       "  & 93\\\\\n",
       "\\hline\n",
       "\tV1 &  0.06894223\\\\\n",
       "\tV2 & -0.46992438\\\\\n",
       "\tV3 & -0.09372374\\\\\n",
       "\\end{tabular}\n",
       "\n",
       "\\item[\\$fun\\_solution] -466.410749536188\n",
       "\\item[\\$final\\_tol] 3.57404218635425e-06\n",
       "\\item[\\$num\\_iters] 10\n",
       "\\item[\\$all\\_iters] \\begin{tabular}{lll}\n",
       "\t 0.69544781  & -6.8115136  & -8.29974527\\\\\n",
       "\t 0.39743361  & -9.4874954  &  2.22899989\\\\\n",
       "\t 0.36857362  & -9.2201529  &  2.02203636\\\\\n",
       "\t 0.29366522  & -7.1625204  &  1.59211122\\\\\n",
       "\t 0.11581294  & -1.7257281  &  0.92932802\\\\\n",
       "\t 0.08186588  & -1.0900685  &  0.62934760\\\\\n",
       "\t 0.06645049  & -0.6399869  &  0.25983507\\\\\n",
       "\t 0.06708997  & -0.4893605  & -0.01347514\\\\\n",
       "\t 0.06882747  & -0.4703816  & -0.08999295\\\\\n",
       "\t 0.06894199  & -0.4699250  & -0.09371636\\\\\n",
       "\\end{tabular}\n",
       "\n",
       "\\end{description}\n"
      ],
      "text/markdown": [
       "$solution\n",
       ":   \n",
       "| <!--/--> | 93 | \n",
       "|---|---|---|\n",
       "| V1 |  0.06894223 | \n",
       "| V2 | -0.46992438 | \n",
       "| V3 | -0.09372374 | \n",
       "\n",
       "\n",
       "\n",
       "$fun_solution\n",
       ":   -466.410749536188\n",
       "$final_tol\n",
       ":   3.57404218635425e-06\n",
       "$num_iters\n",
       ":   10\n",
       "$all_iters\n",
       ":   \n",
       "| 0.69544781  | -6.8115136  | -8.29974527 | \n",
       "| 0.39743361  | -9.4874954  |  2.22899989 | \n",
       "| 0.36857362  | -9.2201529  |  2.02203636 | \n",
       "| 0.29366522  | -7.1625204  |  1.59211122 | \n",
       "| 0.11581294  | -1.7257281  |  0.92932802 | \n",
       "| 0.08186588  | -1.0900685  |  0.62934760 | \n",
       "| 0.06645049  | -0.6399869  |  0.25983507 | \n",
       "| 0.06708997  | -0.4893605  | -0.01347514 | \n",
       "| 0.06882747  | -0.4703816  | -0.08999295 | \n",
       "| 0.06894199  | -0.4699250  | -0.09371636 | \n",
       "\n",
       "\n",
       "\n",
       "\n",
       "\n"
      ],
      "text/plain": [
       "$solution\n",
       "            93\n",
       "V1  0.06894223\n",
       "V2 -0.46992438\n",
       "V3 -0.09372374\n",
       "\n",
       "$fun_solution\n",
       "[1] -466.4107\n",
       "\n",
       "$final_tol\n",
       "[1] 3.574042e-06\n",
       "\n",
       "$num_iters\n",
       "[1] 10\n",
       "\n",
       "$all_iters\n",
       "            [,1]       [,2]        [,3]\n",
       " [1,] 0.69544781 -6.8115136 -8.29974527\n",
       " [2,] 0.39743361 -9.4874954  2.22899989\n",
       " [3,] 0.36857362 -9.2201529  2.02203636\n",
       " [4,] 0.29366522 -7.1625204  1.59211122\n",
       " [5,] 0.11581294 -1.7257281  0.92932802\n",
       " [6,] 0.08186588 -1.0900685  0.62934760\n",
       " [7,] 0.06645049 -0.6399869  0.25983507\n",
       " [8,] 0.06708997 -0.4893605 -0.01347514\n",
       " [9,] 0.06882747 -0.4703816 -0.08999295\n",
       "[10,] 0.06894199 -0.4699250 -0.09371636\n"
      ]
     },
     "metadata": {},
     "output_type": "display_data"
    },
    {
     "data": {
      "text/plain": [
       "\n",
       "Call:\n",
       "glm(formula = Satellites ~ Dark + Width + GoodSpine - 1, data = cbind(y_data, \n",
       "    x_data))\n",
       "\n",
       "Deviance Residuals: \n",
       "    Min       1Q   Median       3Q      Max  \n",
       "-3.9794  -2.2237  -0.8995   1.6780  11.0598  \n",
       "\n",
       "Coefficients:\n",
       "          Estimate Std. Error t value Pr(>|t|)    \n",
       "Dark      -1.30475    0.44259  -2.948  0.00365 ** \n",
       "Width      0.19609    0.03725   5.265 4.19e-07 ***\n",
       "GoodSpine -0.30445    0.49885  -0.610  0.54247    \n",
       "---\n",
       "Signif. codes:  0 '***' 0.001 '**' 0.01 '*' 0.05 '.' 0.1 ' ' 1\n",
       "\n",
       "(Dispersion parameter for gaussian family taken to be 9.10624)\n",
       "\n",
       "    Null deviance: 3179.0  on 173  degrees of freedom\n",
       "Residual deviance: 1548.1  on 170  degrees of freedom\n",
       "AIC: 878.08\n",
       "\n",
       "Number of Fisher Scoring iterations: 2\n"
      ]
     },
     "metadata": {},
     "output_type": "display_data"
    }
   ],
   "source": [
    "y_data <- crabs %>% \n",
    "  dplyr::select(Satellites)\n",
    "\n",
    "x_data <- crabs %>% \n",
    "  dplyr::select(Width, Dark,  GoodSpine) %>%\n",
    "  mutate(Dark = as.integer(Dark), GoodSpine = as.integer(GoodSpine))\n",
    "\n",
    "\n",
    "newtons_method(init_par, grad_poisson_regression_3x1, log_likelihood_poisson_regression ,\n",
    "               inverse_hassian_poisson_regression_3x3, 0.001, 200,x_data, y_data  )\n",
    "\n",
    "summary(glm(Satellites~Dark+Width+GoodSpine-1,data=cbind(y_data,x_data)))"
   ]
  },
  {
   "cell_type": "markdown",
   "metadata": {},
   "source": [
    "## problem 2."
   ]
  },
  {
   "cell_type": "markdown",
   "metadata": {},
   "source": [
    "### d)"
   ]
  },
  {
   "cell_type": "code",
   "execution_count": null,
   "metadata": {
    "collapsed": false
   },
   "outputs": [],
   "source": [
    "set.seed(12345)\n",
    "weibull_sample <- rweibull(50, shape = 5, scale = 7)\n",
    "contraction_mapping <- function(b, x){\n",
    "  n <- length(x)\n",
    "  return((sum((x^b)*log(x))/sum(x^b) - sum(log(x))/n)^-1)\n",
    "}\n",
    "\n",
    "\n",
    "b_last <- .1\n",
    "b_next <- 1\n",
    "\n",
    "\n",
    "while(abs(b_next - b_last)>0.01){\n",
    "  b_last <- b_next\n",
    "  b_next <- contraction_mapping(b_last, weibull_sample)\n",
    "}\n",
    "b_next\n",
    "\n",
    "theta <- (sum(weibull_sample^b_next)/length(weibull_sample))^(1/b_next)\n",
    "theta"
   ]
  },
  {
   "cell_type": "markdown",
   "metadata": {},
   "source": [
    "## problem 3 \n"
   ]
  },
  {
   "cell_type": "markdown",
   "metadata": {},
   "source": [
    "### a)"
   ]
  },
  {
   "cell_type": "code",
   "execution_count": null,
   "metadata": {
    "collapsed": false
   },
   "outputs": [],
   "source": [
    "log_likelihood_frechet <- function(alpha_s, data){\n",
    "  n <- length(data)\n",
    "  alpha <- alpha_s[1]\n",
    "  s <- alpha_s[2]\n",
    "  return( n*log(alpha/s) +sum(log(data/s))*(-1-alpha) -sum((data/s)^(-alpha))\n",
    "    \n",
    "  )\n",
    "}\n",
    "\n",
    "secant_method <- function(init_par, fun, tol, max_iter, data){\n",
    "\n",
    "    eps <- 0.01\n",
    "    rel_tol <- 2*tol\n",
    "    par_old <- init_par\n",
    "    iter_count <- 0\n",
    "      iter_par <- matrix(0,max_iter+1,length(init_par))\n",
    "      iter_par[1,] <- t(init_par)\n",
    "    dim_par <- length(init_par)\n",
    "    approx_grad <- rep(0, dim_par)\n",
    "    approx_hess <- matrix(0, dim_par, dim_par)  \n",
    "\n",
    "    while(rel_tol > tol & iter_count < max_iter){\n",
    "\n",
    "        for(i in 1:dim_par){\n",
    "            del <- rep(0,dim_par)\n",
    "            del[i] <- eps\n",
    "            approx_grad[i] <- (0.5/eps)*(fun(t(par_old+matrix(del,dim_par,1)),data) \n",
    "                                         - fun(t(par_old), data))\n",
    "        }\n",
    "\n",
    "        for(i in 1:dim_par){\n",
    "            del1 <- rep(0,dim_par)\n",
    "            del1[i] <- eps\n",
    "            for(j in 1:dim_par){\n",
    "                del2 <- rep(0,dim_par)\n",
    "                del2[j] <- eps\n",
    "                if(i == j){\n",
    "                    approx_hess[i,j] <- (1/(eps^2))*\n",
    "                      (fun(t(par_old+matrix(del1,dim_par,1)),data) -\n",
    "                                                       2*fun(t(par_old),data) + fun(t(par_old-matrix(del1,dim_par,1)),data))    \n",
    "                }else {\n",
    "                    approx_hess[i,j] <-(0.25/(eps^2))*(fun(t(par_old+matrix(del1,dim_par,1)+\n",
    "                                                               matrix(del2,dim_par,1)),data)\n",
    "                                            -fun(t(par_old+matrix(del1,dim_par,1)-\n",
    "                                                     matrix(del2,dim_par,1)),data)\n",
    "                                            -fun(t(par_old-matrix(del1,dim_par,1)+\n",
    "                                                     matrix(del2,dim_par,1)),data)\n",
    "                                            +fun(t(par_old-matrix(del1,dim_par,1)-\n",
    "                                                     matrix(del2,dim_par,1)),data))\n",
    "                }\n",
    "            }\n",
    "        }\n",
    "\n",
    "        \n",
    "        par_new <- par_old - solve(approx_hess)%*%approx_grad \n",
    "        rel_tol <- max(abs(par_new - par_old)/par_old)\n",
    "        par_old <- par_new\n",
    "        iter_count <- iter_count + 1\n",
    "        iter_par[iter_count+1,] <- t(par_new)\n",
    "\n",
    "    }\n",
    "\n",
    "    return(list(solution = par_new, fun_solution = fun(t(par_new), data), \n",
    "                final_tol = rel_tol, num_iters = iter_count, \n",
    "                all_iters = iter_par[1:iter_count,]))\n",
    "}\n",
    "\n",
    "set.seed(12345) \n",
    "frechet_sample <- rfrechet(100,0,2,3) \n",
    "\n",
    "\n",
    "set.seed(123456)\n",
    "\n",
    "test_initial_poirnt3 <- rnorm(300,0,10) %>% \n",
    "  abs() %>%\n",
    "  matrix(150,2) %>% \n",
    "  as.data.frame() \n",
    "\n",
    "test_likelihood3 <- apply(test_initial_poirnt3,1,\n",
    "                         function(x){log_likelihood_frechet(x,frechet_sample)}) \n",
    "                                     \n",
    "init_par3 <- t(test_initial_poirnt3[which(test_likelihood3 == max(test_likelihood3,na.rm = TRUE)),])\n",
    "\n",
    "init_par3\n",
    "                                     \n",
    "\n",
    "secant_method(init_par3, log_likelihood_frechet,0.001,2000,frechet_sample) "
   ]
  },
  {
   "cell_type": "markdown",
   "metadata": {},
   "source": [
    "### b)"
   ]
  },
  {
   "cell_type": "code",
   "execution_count": null,
   "metadata": {
    "collapsed": false
   },
   "outputs": [],
   "source": [
    "\n",
    "grad_frechet <- function(alpha_s, data){\n",
    "    n <- length(data)\n",
    "  alpha <- alpha_s[1]\n",
    "  s <- alpha_s[2]\n",
    "  return(matrix(c( n/alpha - sum(log(data/s))+ sum((data/s)^(-alpha)*log(data/s)),\n",
    "                   -n/s+n*(alpha+1)/s -sum(1/s*alpha*(data/s)^(-alpha))\n",
    "    \n",
    "  ),2,1))\n",
    "}\n",
    "\n",
    "\n",
    " quasi_newton_method_rank1 <- function(init_par, grad, tol,learning_rate, max_itr,data){\n",
    "\n",
    "  step <- learning_rate\n",
    "  H <- matrix(c(0.001,0,0,0.001),length(init_par),length(init_par))\n",
    "  old_par <- as.matrix(init_par)\n",
    "  rel_tol <- tol*2\n",
    "  n_itr <- 0\n",
    "  \n",
    "  while(rel_tol > tol & n_itr < max_itr){\n",
    "    new_par <- old_par - H%*% grad(old_par,frechet_sample)*step\n",
    "    zn <- new_par-old_par\n",
    "    yn <- grad(new_par,frechet_sample)-grad(old_par,frechet_sample)\n",
    "    \n",
    "    H <- H+ ((zn- H %*% yn) %*% t(zn- H %*%yn)/(as.double(t(zn- H %*% yn) %*% yn)))\n",
    "    old_par <- new_par\n",
    "    n_itr <- n_itr+1\n",
    "    rel_tol<- norm(grad(new_par,frechet_sample))\n",
    "    \n",
    "    # print(new_par)\n",
    "    # print(rel_tol)\n",
    "  }\n",
    "\n",
    "   return(list(solution = new_par,'number of iteration' = n_itr))\n",
    "}\n",
    "# \n",
    "quasi_newton_method_rank1(init_par3,grad_frechet,0.001,1,20000,frechet_sample)"
   ]
  },
  {
   "cell_type": "markdown",
   "metadata": {},
   "source": [
    "### c)"
   ]
  },
  {
   "cell_type": "code",
   "execution_count": null,
   "metadata": {
    "collapsed": false
   },
   "outputs": [],
   "source": [
    "\n",
    "suppressWarnings( \n",
    "    optim(init_par3,function(x){log_likelihood_frechet(x,frechet_sample)}, \n",
    "      function(x){grad_frechet(x,frechet_sample)} ,\n",
    "      method = \"BFGS\", control = list(fnscale = -1, reltol= 0.001)) \n",
    "                )\n"
   ]
  },
  {
   "cell_type": "markdown",
   "metadata": {
    "collapsed": true
   },
   "source": [
    "The BGFS updating method takes about half of the step to converge comparing with the 1-order method quasi-newton method and the secant method. "
   ]
  }
 ],
 "metadata": {
  "kernelspec": {
   "display_name": "R",
   "language": "R",
   "name": "ir"
  },
  "language_info": {
   "codemirror_mode": "r",
   "file_extension": ".r",
   "mimetype": "text/x-r-source",
   "name": "R",
   "pygments_lexer": "r",
   "version": "3.5.1"
  }
 },
 "nbformat": 4,
 "nbformat_minor": 2
}
